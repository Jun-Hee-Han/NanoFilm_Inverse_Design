{
 "cells": [
  {
   "cell_type": "markdown",
   "id": "f076cc29-c48a-4e7d-a660-c804eb3d0868",
   "metadata": {},
   "source": [
    "## Directory Setting"
   ]
  },
  {
   "cell_type": "code",
   "execution_count": 1,
   "id": "5fa63596",
   "metadata": {},
   "outputs": [],
   "source": [
    "import os\n",
    "import sys, os\n",
    "\n",
    "path=os.getcwd()\n",
    "path2=os.path.dirname(path)\n",
    "sys.path.append(os.path.join(f'{path}', f'{path2}'))"
   ]
  },
  {
   "cell_type": "code",
   "execution_count": 2,
   "id": "d75c557b",
   "metadata": {},
   "outputs": [],
   "source": [
    "import numpy as np\n",
    "import matplotlib.pyplot as plt\n",
    "from dezero import Variable\n",
    "import dezero.functions as F\n",
    "import random\n",
    "import pandas as pd\n",
    "import matplotlib.pyplot as plot\n",
    "import time"
   ]
  },
  {
   "cell_type": "markdown",
   "id": "0389f404-9e9e-49c8-859c-3e41fa4d2bbd",
   "metadata": {},
   "source": [
    "## Materials"
   ]
  },
  {
   "cell_type": "code",
   "execution_count": 3,
   "id": "2f3523a7",
   "metadata": {},
   "outputs": [],
   "source": [
    "Ag=pd.read_csv('Ag.csv', index_col=0)\n",
    "Ag=Ag[(Ag['Wavelength']>=380)&(Ag['Wavelength']<=780)]\n",
    "Ag_comp=Ag['n']-1j*Ag['k']\n",
    "Ag=np.array([Ag_comp]).T\n",
    "\n",
    "WO3=pd.read_csv('WO3.csv', index_col=0)\n",
    "WO3=WO3[(WO3['Wavelength']>=380)&(WO3['Wavelength']<=780)]\n",
    "WO3_comp=WO3['n']-1j*WO3['k']\n",
    "WO3=np.array([WO3_comp]).T\n",
    "\n",
    "SiO2=np.arange(380, 781)/1000\n",
    "SiO2=np.array([(np.sqrt((1.28604141+((1.07044083*(SiO2**2))/((SiO2**2)-1.00585997*(10**-2)))+((1.10202242*(SiO2**2))/(SiO2**2-100)))))])\n",
    "SiO2=SiO2.T\n",
    "\n",
    "kn=pd.read_csv('k.csv')\n",
    "kn=kn[(kn['Wavelength']>=380)&(kn['Wavelength']<=780)]['k']\n",
    "kn=np.array([kn.values]).T\n",
    "\n",
    "Y=pd.read_csv('Y.csv')\n",
    "Y=Y[(Y['Wavelength']>=380)*(Y['Wavelength']<=780)]\n",
    "Y=Y.iloc[:,1:2].to_numpy()\n",
    "Y=Variable(Y)\n",
    "\n",
    "Wavelength=pd.read_csv('Y.csv')['Wavelength']"
   ]
  },
  {
   "cell_type": "markdown",
   "id": "c6ddeb1e-651a-48c8-9a9d-a022437eb5c0",
   "metadata": {},
   "source": [
    "## Parameter Setting"
   ]
  },
  {
   "cell_type": "code",
   "execution_count": 4,
   "id": "361bd9ab",
   "metadata": {},
   "outputs": [],
   "source": [
    "a1=Variable(np.array(1.0))\n",
    "b1=Variable(np.array(0.0))\n",
    "c1=Variable(np.array(0.0))\n",
    "d1=Variable(np.array(1.0))\n",
    "\n",
    "ninc=Variable(np.array(1.0))\n",
    "n1=Variable(WO3)\n",
    "n2=Variable(Ag)\n",
    "n3=Variable(WO3)\n",
    "n4=Variable(Ag)\n",
    "n5=Variable(WO3)\n",
    "nsub=Variable(SiO2)\n",
    "\n",
    "k=Variable(kn)\n",
    "\n",
    "spectrum=Y"
   ]
  },
  {
   "cell_type": "markdown",
   "id": "f5bce9bf-94ca-40b9-8637-a3bb6ab1420b",
   "metadata": {},
   "source": [
    "## Network Setting"
   ]
  },
  {
   "cell_type": "code",
   "execution_count": 5,
   "id": "782ca0e1",
   "metadata": {},
   "outputs": [],
   "source": [
    "def predict(k):\n",
    "    a2=F.Mat1(t1, a1, b1, c1, d1, n1, k)\n",
    "    b2=F.Mat2(t1, a1, b1, c1, d1, n1, k)\n",
    "    c2=F.Mat3(t1, a1, b1, c1, d1, n1, k)\n",
    "    d2=F.Mat4(t1, a1, b1, c1, d1, n1, k)\n",
    " \n",
    "    a3=F.Mat1(t2, a2, b2, c2, d2, n2, k)\n",
    "    b3=F.Mat2(t2, a2, b2, c2, d2, n2, k)\n",
    "    c3=F.Mat3(t2, a2, b2, c2, d2, n2, k)\n",
    "    d3=F.Mat4(t2, a2, b2, c2, d2, n2, k)\n",
    "    \n",
    "    a4=F.Mat1(t3, a3, b3, c3, d3, n3, k)\n",
    "    b4=F.Mat2(t3, a3, b3, c3, d3, n3, k)\n",
    "    c4=F.Mat3(t3, a3, b3, c3, d3, n3, k)\n",
    "    d4=F.Mat4(t3, a3, b3, c3, d3, n3, k)\n",
    "    \n",
    "    a5=F.Mat1(t4, a4, b4, c4, d4, n4, k)\n",
    "    b5=F.Mat2(t4, a4, b4, c4, d4, n4, k)\n",
    "    c5=F.Mat3(t4, a4, b4, c4, d4, n4, k)\n",
    "    d5=F.Mat4(t4, a4, b4, c4, d4, n4, k)\n",
    "    \n",
    "    a6=F.Mat1(t5, a5, b5, c5, d5, n5, k)\n",
    "    b6=F.Mat2(t5, a5, b5, c5, d5, n5, k)\n",
    "    c6=F.Mat3(t5, a5, b5, c5, d5, n5, k)\n",
    "    d6=F.Mat4(t5, a5, b5, c5, d5, n5, k)\n",
    "    \n",
    "    B=F.B(a6, b6, c6, d6, nsub)\n",
    "    C=F.C(a6, b6, c6, d6, nsub)\n",
    "    \n",
    "    y=F.R(ninc, B, C)    \n",
    "    \n",
    "    return y"
   ]
  },
  {
   "cell_type": "markdown",
   "id": "4d951768",
   "metadata": {},
   "source": [
    "## Inverse Design. STEP1"
   ]
  },
  {
   "cell_type": "code",
   "execution_count": 6,
   "id": "f0050723",
   "metadata": {},
   "outputs": [],
   "source": [
    "st=time.time()\n",
    "\n",
    "t1=Variable(np.full((401,1), 5E-9))\n",
    "t2=Variable(np.full((401,1), 5E-9))\n",
    "t3=Variable(np.full((401,1), 30E-9))\n",
    "t4=Variable(np.full((401,1), 20E-9))\n",
    "t5=Variable(np.full((401,1), 15E-9))\n",
    "\n",
    "lr = 1E-9\n",
    "beta1=0.9\n",
    "beta2=0.999\n",
    "\n",
    "iters_num = 200\n",
    "m1=0; m2=0; m3=0; m4=0; m5=0;\n",
    "v1=0; v2=0; v3=0; v4=0; v5=0;\n",
    "   \n",
    "for it in range(iters_num):\n",
    "    iters=it+1\n",
    "    y_pred=predict(k)\n",
    "    loss = F.mean_squared_error(spectrum, y_pred)\n",
    "\n",
    "    t1.cleargrad()\n",
    "    t2.cleargrad()\n",
    "    t3.cleargrad()\n",
    "    t4.cleargrad()\n",
    "    t5.cleargrad()\n",
    "    loss.backward()\n",
    "    \n",
    "    m1       = m1*beta1 + (1-beta1)*t1.grad.data.real\n",
    "    m1_hat   = m1/(1-beta1**iters)\n",
    "    v1       = v1*beta2 + (1-beta2)*((t1.grad.data.real)**2)\n",
    "    v1_hat   = v1/(1-beta2**iters)\n",
    "    t1.data -= lr * m1_hat/(np.sqrt(v1_hat)+1e-7)\n",
    "    t1.data[t1.data < 0] = 0\n",
    "\n",
    "    m2       = m2*beta1 + (1-beta1)*t2.grad.data.real\n",
    "    m2_hat   = m2/(1-beta1**iters)\n",
    "    v2       = v2*beta2 + (1-beta2)*((t2.grad.data.real)**2)\n",
    "    v2_hat   = v2/(1-beta2**iters)\n",
    "    t2.data -= lr * m2_hat/(np.sqrt(v2_hat)+1e-7)\n",
    "    t2.data[t2.data < 0] = 0\n",
    "   \n",
    "    m3       = m3*beta1 + (1-beta1)*t3.grad.data.real\n",
    "    m3_hat   = m3/(1-beta1**iters)\n",
    "    v3       = v3*beta2 + (1-beta2)*((t3.grad.data.real)**2)\n",
    "    v3_hat   = v3/(1-beta2**iters)\n",
    "    t3.data -= lr * m3_hat/(np.sqrt(v3_hat)+1e-7)\n",
    "    t3.data[t3.data < 0] = 0\n",
    "    \n",
    "    m4       = m4*beta1 + (1-beta1)*t4.grad.data.real\n",
    "    m4_hat   = m4/(1-beta1**iters)\n",
    "    v4       = v4*beta2 + (1-beta2)*((t4.grad.data.real)**2)\n",
    "    v4_hat   = v4/(1-beta2**iters)\n",
    "    t4.data -= lr * m4_hat/(np.sqrt(v4_hat)+1e-7)\n",
    "    t4.data[t4.data < 0] = 0\n",
    "    \n",
    "    m5       = m5*beta1 + (1-beta1)*t5.grad.data.real\n",
    "    m5_hat   = m5/(1-beta1**iters)\n",
    "    v5       = v5*beta2 + (1-beta2)*((t5.grad.data.real)**2)\n",
    "    v5_hat   = v5/(1-beta2**iters)\n",
    "    t5.data -= lr * m5_hat/(np.sqrt(v5_hat)+1e-7)\n",
    "    t5.data[t5.data < 0] = 0\n",
    "\n",
    "et=time.time()"
   ]
  },
  {
   "cell_type": "markdown",
   "id": "de315f84-0a1a-44ee-9f85-e73fe0750b30",
   "metadata": {},
   "source": [
    "## Inverse Design. STEP2"
   ]
  },
  {
   "cell_type": "code",
   "execution_count": 7,
   "id": "404b791e-92b8-42f8-af52-5b3b82484ed6",
   "metadata": {},
   "outputs": [
    {
     "name": "stdout",
     "output_type": "stream",
     "text": [
      "t1_thickness:  46.52193798472979 nm\n",
      "t2_thickness:  0.0 nm\n",
      "t3_thickness:  71.88091008346785 nm\n",
      "t4_thickness:  111.36040601520793 nm\n",
      "t5_thickness:  3.8318862619006526 nm\n"
     ]
    }
   ],
   "source": [
    "rst_loss=np.array([])\n",
    "t_1=t1\n",
    "t_2=t2\n",
    "t_3=t3\n",
    "t_4=t4\n",
    "t_5=t5\n",
    "\n",
    "for nn in range(len(t_1)):\n",
    "    t1=Variable(np.full((401,1), t_1.data[nn]))\n",
    "    t2=Variable(np.full((401,1), t_2.data[nn]))\n",
    "    t3=Variable(np.full((401,1), t_3.data[nn]))\n",
    "    t4=Variable(np.full((401,1), t_4.data[nn]))\n",
    "    t5=Variable(np.full((401,1), t_5.data[nn]))\n",
    "\n",
    "    y_test=predict(k)\n",
    "    loss=F.mean_squared_error(spectrum, y_test)\n",
    "\n",
    "    rst_loss=np.append(rst_loss, loss.data)\n",
    "\n",
    "m=np.argmin(rst_loss)\n",
    "print('t1_thickness: ', t_1.data[m][0]*1E+9, 'nm')\n",
    "print('t2_thickness: ', t_2.data[m][0]*1E+9, 'nm')\n",
    "print('t3_thickness: ', t_3.data[m][0]*1E+9, 'nm')\n",
    "print('t4_thickness: ', t_4.data[m][0]*1E+9, 'nm')\n",
    "print('t5_thickness: ', t_5.data[m][0]*1E+9, 'nm')"
   ]
  },
  {
   "cell_type": "code",
   "execution_count": 8,
   "id": "d8b79212-f746-4062-98a8-9eff589e3d27",
   "metadata": {},
   "outputs": [],
   "source": [
    "t1=Variable(np.full((401,1), t_1.data[m]))\n",
    "t2=Variable(np.full((401,1), t_2.data[m]))\n",
    "t3=Variable(np.full((401,1), t_3.data[m]))\n",
    "t4=Variable(np.full((401,1), t_4.data[m]))\n",
    "t5=Variable(np.full((401,1), t_5.data[m]))\n",
    "\n",
    "y_rst=predict(k)"
   ]
  },
  {
   "cell_type": "markdown",
   "id": "c43cda9e-e771-4770-9e09-886031238a08",
   "metadata": {},
   "source": [
    "## Plot Result"
   ]
  },
  {
   "cell_type": "code",
   "execution_count": 9,
   "id": "a17c775a-3c63-446d-be71-cb25a56760f6",
   "metadata": {},
   "outputs": [
    {
     "data": {
      "text/plain": [
       "[<matplotlib.lines.Line2D at 0x242bbe484d0>]"
      ]
     },
     "execution_count": 9,
     "metadata": {},
     "output_type": "execute_result"
    },
    {
     "data": {
      "image/png": "[encoded data removed]",
      "text/plain": [
       "<Figure size 640x480 with 1 Axes>"
      ]
     },
     "metadata": {},
     "output_type": "display_data"
    }
   ],
   "source": [
    "plt.plot(spectrum.data, color='k')"
   ]
  },
  {
   "cell_type": "code",
   "execution_count": 10,
   "id": "54b42bb1-dfa5-4ef2-8ee1-09fae55769c4",
   "metadata": {},
   "outputs": [
    {
     "data": {
      "text/plain": [
       "[<matplotlib.lines.Line2D at 0x242bdbbd8d0>]"
      ]
     },
     "execution_count": 10,
     "metadata": {},
     "output_type": "execute_result"
    },
    {
     "data": {
      "image/png": "[encoded data removed]",
      "text/plain": [
       "<Figure size 640x480 with 1 Axes>"
      ]
     },
     "metadata": {},
     "output_type": "display_data"
    }
   ],
   "source": [
    "plt.plot(y_rst.data, color='b')"
   ]
  },
  {
   "cell_type": "markdown",
   "id": "9fb841ad-2faa-48b6-9bc3-af8c0ab007bd",
   "metadata": {},
   "source": [
    "## Running Time"
   ]
  },
  {
   "cell_type": "code",
   "execution_count": 11,
   "id": "76d52bbe",
   "metadata": {},
   "outputs": [
    {
     "name": "stdout",
     "output_type": "stream",
     "text": [
      "Run_Time: 1.801725149154663\n"
     ]
    }
   ],
   "source": [
    "run_time = et-st\n",
    "print('Run_Time:', run_time)"
   ]
  },
  {
   "cell_type": "code",
   "execution_count": null,
   "id": "69f87df8-2235-400a-b44d-aa5466590169",
   "metadata": {},
   "outputs": [],
   "source": []
  }
 ],
 "metadata": {
  "kernelspec": {
   "display_name": "Python 3 (ipykernel)",
   "language": "python",
   "name": "python3"
  },
  "language_info": {
   "codemirror_mode": {
    "name": "ipython",
    "version": 3
   },
   "file_extension": ".py",
   "mimetype": "text/x-python",
   "name": "python",
   "nbconvert_exporter": "python",
   "pygments_lexer": "ipython3",
   "version": "3.11.7"
  }
 },
 "nbformat": 4,
 "nbformat_minor": 5
}
